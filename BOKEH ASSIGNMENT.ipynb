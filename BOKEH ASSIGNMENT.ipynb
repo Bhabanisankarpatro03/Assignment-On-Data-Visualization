{
  "metadata": {
    "kernelspec": {
      "name": "python",
      "display_name": "Python (Pyodide)",
      "language": "python"
    },
    "language_info": {
      "codemirror_mode": {
        "name": "python",
        "version": 3
      },
      "file_extension": ".py",
      "mimetype": "text/x-python",
      "name": "python",
      "nbconvert_exporter": "python",
      "pygments_lexer": "ipython3",
      "version": "3.8"
    }
  },
  "nbformat_minor": 4,
  "nbformat": 4,
  "cells": [
    {
      "cell_type": "markdown",
      "source": "Q1.Create a Bokeh plot displaying a sine wave. Set x-values from 0 to 10 and y-values as the sine of x.",
      "metadata": {}
    },
    {
      "cell_type": "code",
      "source": "import numpy as np\nfrom bokeh.plotting import figure, show\n\nx = np.linspace(0, 10, 100)\n\ny = np.sin(x)\n\np1 = figure(title=\"Sine Wave Plot 1\", x_axis_label=\"x\", y_axis_label=\"sin(x)\")\np1.line(x, y, line_width=2)\n\np2 = figure(title=\"Sine Wave Plot 2\", x_axis_label=\"x\", y_axis_label=\"sin(x)\")\np2.circle(x, y, size=10, fill_color=\"orange\", line_color=\"black\")\n\nshow(p1)\nshow(p2)",
      "metadata": {
        "trusted": true
      },
      "outputs": [],
      "execution_count": null
    },
    {
      "cell_type": "markdown",
      "source": "Q2.Create a Bokeh scatter plot using randomly generated x and y values. Use different sizes and colors for the markers based on the 'sizes' and 'colors' columns.",
      "metadata": {}
    },
    {
      "cell_type": "code",
      "source": "import numpy as np\nfrom bokeh.plotting import figure, show\nfrom bokeh.models import ColumnDataSource, ColorMapper, LinearColorMapper, Circle\n\nN = 100\nx = np.random.rand(N)\ny = np.random.rand(N)\n\nsizes = np.random.randint(10, 50, N)\ncolors = np.random.rand(N, 3)  # Random RGB colors\n\nsource = ColumnDataSource(data={'x': x, 'y': y, 'sizes': sizes, 'colors': colors})\n\ncolor_mapper = LinearColorMapper(palette='Viridis256', low=0, high=1)\n\np = figure(title=\"Random Scatter Plot\")\np.circle('x', 'y', source=source, size='sizes', color={'field': 'colors', 'transform': color_mapper})\n\nshow(p)",
      "metadata": {
        "trusted": true
      },
      "outputs": [],
      "execution_count": null
    },
    {
      "cell_type": "markdown",
      "source": "Q3. Generate a Bokeh bar chart representing the counts of different fruits using the following dataset.\n\n                 fruits = ['Apples', 'Oranges', 'Bananas', 'Pears'] \n                 counts = [20, 25, 30, 35]",
      "metadata": {}
    },
    {
      "cell_type": "code",
      "source": "from bokeh.plotting import figure, show\nfrom bokeh.models import ColumnDataSource\n\nfruits = ['Apples', 'Oranges', 'Bananas', 'Pears']\ncounts = [20, 25, 30, 35]\n\nsource = ColumnDataSource(data={'fruits': fruits, 'counts': counts})\n\np = figure(x_axis_label='Fruits', y_axis_label='Counts', title='Fruit Counts')\np.vbar(x='fruits', top='counts', width=0.5, source=source)\n\nshow(p)",
      "metadata": {
        "trusted": true
      },
      "outputs": [],
      "execution_count": null
    },
    {
      "cell_type": "markdown",
      "source": "Q4. Create a Bokeh histogram to visualize the distribution of the given data.\n\n               data_hist = np.random.randn(1000)     \n               hist, edges = np.histogram(data_hist, bins=30)",
      "metadata": {}
    },
    {
      "cell_type": "code",
      "source": "import numpy as np\nfrom bokeh.plotting import figure, show\n\ndata_hist = np.random.randn(1000)\n\nhist, edges = np.histogram(data_hist, bins=30)\n\np = figure(title=\"Histogram\", x_axis_label=\"Value\", y_axis_label=\"Frequency\")\n\np.quad(top=hist, bottom=0, left=edges[:-1], right=edges[1:], fill_color=\"skyblue\", line_color=\"black\")\n\nshow(p)",
      "metadata": {
        "trusted": true
      },
      "outputs": [],
      "execution_count": null
    },
    {
      "cell_type": "markdown",
      "source": "Q5. Create a Bokeh heatmap using the provided dataset.\n\n                   data_heatmap = np.random.rand(10, 10) \n                   x = np.linspace(0, 1, 10) \n                   y = np.linspace(0, 1, 10) \n                   xx, yy = np.meshgrid(x, y)",
      "metadata": {}
    },
    {
      "cell_type": "code",
      "source": "import numpy as np\nfrom bokeh.plotting import figure, show\nfrom bokeh.models import LinearColorMapper, ColorBar\n\ndata_heatmap = np.random.rand(10, 10)\n\nx = np.linspace(0, 1, 10)\ny = np.linspace(0, 1, 10)\nxx, yy = np.meshgrid(x, y)\n\ncolor_mapper = LinearColorMapper(palette=\"Viridis256\", low=0, high=1)\n\np = figure(title=\"Heatmap\", x_axis_label=\"X\", y_axis_label=\"Y\")\n\np.image(image=data_heatmap, x=0, y=0, dw=1, dh=1, color_mapper=color_mapper)\n\ncolor_bar = ColorBar(color_mapper=color_mapper, title=\"Value\", location=(0, 0))\np.add_layout(color_bar, 'right')\n\n# Show the plot\nshow(p)",
      "metadata": {
        "trusted": true
      },
      "outputs": [],
      "execution_count": null
    }
  ]
}